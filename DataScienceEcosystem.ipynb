{
 "cells": [
  {
   "cell_type": "markdown",
   "id": "a265edde-095b-4e7c-95f1-8efe13320352",
   "metadata": {},
   "source": [
    "<H1>Data Science Tools and Ecosystem</H1>"
   ]
  },
  {
   "cell_type": "markdown",
   "id": "64db8375-67c0-49f1-ae0b-7db051664d52",
   "metadata": {},
   "source": [
    "<p> This notebook contains a brief summary of Data Science tools and libraries used in it. \n",
    "It is a peer graded assignment in the course Data Science Tools.</p>"
   ]
  },
  {
   "cell_type": "markdown",
   "id": "c4504059-e667-4acb-9e18-98f8b418a593",
   "metadata": {},
   "source": [
    "<B> Objectives: </B>\n",
    "<ul>\n",
    "    <li>To get aware with tools used in Data Science.</li>\n",
    "    <li>To get aware with the languages of Data Science</li>\n",
    "    <li>To get started with using Jupyter Notebook.</li>\n",
    "    <li>To get started and creating project with IBM Watson Studio.</li>\n",
    "</ul>"
   ]
  },
  {
   "cell_type": "markdown",
   "id": "21ecb6b2-083c-4ce9-9008-309984c403f8",
   "metadata": {},
   "source": [
    "<H2> Author </H2>\n",
    "     Mridul Sahu"
   ]
  },
  {
   "cell_type": "markdown",
   "id": "a8c30c7b-7847-46fd-9e64-5b42719d82ea",
   "metadata": {},
   "source": [
    "Some of the popular languages that Data Scientists use are:\n",
    "<ol>\n",
    "    <li> Python </li>\n",
    "    <li> Julia </li>\n",
    "    <li> R </li>\n",
    "    <li> SQL </li>\n",
    "    <li> Java </li>\n",
    "    <li> Javascript </li>\n",
    "</ol>"
   ]
  },
  {
   "cell_type": "markdown",
   "id": "da9622e8-d553-44bc-bbfe-1c01f442327d",
   "metadata": {},
   "source": [
    "Some of the commonly used libraries used by Data Scientists include:\n",
    "<ol>\n",
    "    <li> Sci-kit learn </li>\n",
    "    <li> TensorFlow </li>\n",
    "    <li> NumPy </li>\n",
    "    <li> SciPy </li>\n",
    "    <li> Pandas </li>\n",
    "    <li> Keras, etc. </li>\n",
    "</ol>"
   ]
  },
  {
   "cell_type": "markdown",
   "id": "0af5ca96-96a1-4b74-90c9-dffbfe3e4377",
   "metadata": {},
   "source": [
    "<H3>Below are a few examples of evaluating arithmetic expressions in Python:</H3>\n",
    "    "
   ]
  },
  {
   "cell_type": "code",
   "execution_count": 2,
   "id": "46453755-3875-452a-a12f-cce231a0d82f",
   "metadata": {},
   "outputs": [
    {
     "data": {
      "text/plain": [
       "17"
      ]
     },
     "execution_count": 2,
     "metadata": {},
     "output_type": "execute_result"
    }
   ],
   "source": [
    "# This a simple arithmetic expression to mutiply then add integers\n",
    "(3*4)+5"
   ]
  },
  {
   "cell_type": "code",
   "execution_count": 3,
   "id": "5ad39494-5d92-4754-a067-7e9c9b5ffa74",
   "metadata": {},
   "outputs": [
    {
     "data": {
      "text/plain": [
       "3.3333333333333335"
      ]
     },
     "execution_count": 3,
     "metadata": {},
     "output_type": "execute_result"
    }
   ],
   "source": [
    "# This will convert 200 minutes to hours by diving by 60\n",
    "200/60"
   ]
  }
 ],
 "metadata": {
  "kernelspec": {
   "display_name": "Python",
   "language": "python",
   "name": "conda-env-python-py"
  },
  "language_info": {
   "codemirror_mode": {
    "name": "ipython",
    "version": 3
   },
   "file_extension": ".py",
   "mimetype": "text/x-python",
   "name": "python",
   "nbconvert_exporter": "python",
   "pygments_lexer": "ipython3",
   "version": "3.7.12"
  }
 },
 "nbformat": 4,
 "nbformat_minor": 5
}
